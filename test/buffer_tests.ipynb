{
 "cells": [
  {
   "cell_type": "code",
   "execution_count": 1,
   "metadata": {},
   "outputs": [
    {
     "data": {
      "text/plain": [
       "'C:\\\\Program Files\\\\Micro-Manager\\\\plugins\\\\Micro-Manager\\\\MMCoreJ.jar'"
      ]
     },
     "execution_count": 1,
     "metadata": {},
     "output_type": "execute_result"
    }
   ],
   "source": [
    "%load_ext autoreload\n",
    "%autoreload 2\n",
    "\n",
    "# Compile mmcoremj.jar and copy dll and jar to Micro-Manager installation\n",
    "import os\n",
    "from pathlib import Path\n",
    "\n",
    "os.chdir(r\"C:\\Users\\henry\\GitRepos\\micro-manager\\mmCoreAndDevices\\MMCoreJ_wrap\")\n",
    "result = os.system(\"ant jar\")\n",
    "if result != 0:\n",
    "    print(f\"Error running 'ant jar': exit code {result}\")\n",
    "\n",
    "import shutil\n",
    "source_1 = r\"C:\\Users\\henry\\GitRepos\\micro-manager\\mmCoreAndDevices\\build\\Debug\\x64\\MMCoreJ_wrap.dll\"\n",
    "destination_1 = r\"C:\\Program Files\\Micro-Manager\\MMCoreJ_wrap.dll\"\n",
    "source_2 = r\"C:\\Users\\henry\\GitRepos\\micro-manager\\build\\Java\\MMCoreJ.jar\"\n",
    "destination_2 = r\"C:\\Program Files\\Micro-Manager\\plugins\\Micro-Manager\\MMCoreJ.jar\"\n",
    "shutil.copy2(source_1, destination_1)\n",
    "shutil.copy2(source_2, destination_2)\n"
   ]
  },
  {
   "cell_type": "code",
   "execution_count": null,
   "metadata": {},
   "outputs": [],
   "source": []
  },
  {
   "cell_type": "code",
   "execution_count": 2,
   "metadata": {},
   "outputs": [
    {
     "name": "stdout",
     "output_type": "stream",
     "text": [
      "The autoreload extension is already loaded. To reload it, use:\n",
      "  %reload_ext autoreload\n"
     ]
    }
   ],
   "source": [
    "%load_ext autoreload\n",
    "%autoreload 2\n",
    "\n",
    "# import the buffer_test_util.py file\n",
    "import importlib.util\n",
    "import sys\n",
    "\n",
    "# Import util file form absolute path\n",
    "file_path = 'C:/Users/henry/GitRepos/mmpycorex/test/buffer_test_util.py'\n",
    "spec = importlib.util.spec_from_file_location(\"buffer_test_util\", file_path)\n",
    "buffer_test_util = importlib.util.module_from_spec(spec)\n",
    "sys.modules[\"buffer_test_util\"] = buffer_test_util\n",
    "spec.loader.exec_module(buffer_test_util)\n",
    "\n",
    "\n",
    "from pycromanager import start_headless, stop_headless, Core\n",
    "import time\n",
    "import numpy as np\n",
    "from buffer_test_util import *\n",
    "\n",
    "# start_headless('C:/Program Files/Micro-Manager', 'MMConfig_demo.cfg', max_memory_mb=9000)\n",
    "\n",
    "# start_headless('C:/Program Files/Micro-Manager', 'MMConfig_demo.cfg', python_backend=True)\n",
    "# import pymmcore; print(pymmcore.__version__)\n",
    "\n",
    "core = Core()"
   ]
  },
  {
   "cell_type": "code",
   "execution_count": 3,
   "metadata": {},
   "outputs": [
    {
     "name": "stdout",
     "output_type": "stream",
     "text": [
      "(1024, 1024)\n"
     ]
    }
   ],
   "source": [
    "from pycromanager import Acquisition, multi_d_acquisition_events, Core\n",
    "\n",
    "mmc = Core()\n",
    "mmc.set_property('Camera', 'OnCameraCCDXSize', '1024')\n",
    "mmc.set_property('Camera', 'OnCameraCCDYSize', '1024')\n",
    "\n",
    "with Acquisition(show_display=False) as acq:\n",
    "    events = multi_d_acquisition_events(num_time_points=5)\n",
    "    acq.acquire(events)\n",
    "\n",
    "# reset image size\n",
    "mmc.set_property('Camera', 'OnCameraCCDXSize', '512')\n",
    "mmc.set_property('Camera', 'OnCameraCCDYSize', '512')\n",
    "\n",
    "dataset = acq.get_dataset()\n",
    "try:\n",
    "    data_shape = dataset.as_array().shape\n",
    "    assert(data_shape[-2:] == (1024, 1024))\n",
    "finally:\n",
    "    print(data_shape[-2:])\n",
    "    dataset.close()\n"
   ]
  },
  {
   "cell_type": "code",
   "execution_count": 2,
   "metadata": {},
   "outputs": [],
   "source": [
    "# SnapImage Tests \n",
    "\n",
    "# Make sure we can get and release the pointer if v2 buffer is enabled\n",
    "core.enable_v2_buffer(True)\n",
    "\n",
    "core.snap_image()\n",
    "buffer_data_pointer = core.get_image_pointer()\n",
    "assert isinstance(buffer_data_pointer.get_data(), np.ndarray)\n",
    "buffer_data_pointer.release()\n",
    "assert(buffer_data_pointer.get_data() is None)\n",
    "\n",
    "\n",
    "# Make sure we can't get the pointer if v2 buffer is disabled\n",
    "core.enable_v2_buffer(False)\n",
    "core.snap_image()\n",
    "\n",
    "try:\n",
    "    core.get_image_pointer()\n",
    "    assert False\n",
    "except Exception as e:\n",
    "    pass\n",
    "\n",
    "\n",
    "# Make sure regular snap image still works with either buffer\n",
    "for v2 in [False, True]:\n",
    "    core.enable_v2_buffer(v2)\n",
    "    core.snap_image()\n",
    "    pixels = core.get_image()\n",
    "    assert isinstance(pixels, np.ndarray)\n",
    "\n",
    "\n",
    "## Tagged image snap tests\n",
    "\n",
    "# Make sure regular snap image still works with either buffer\n",
    "for v2 in [False, True]:\n",
    "    core.enable_v2_buffer(v2)\n",
    "    core.snap_image()\n",
    "    tagged_image = core.get_tagged_image()\n",
    "    assert isinstance(tagged_image.pix, np.ndarray)\n",
    "    assert isinstance(tagged_image.tags, dict)\n",
    "\n",
    "\n",
    "# TaggedImagePointer \n",
    "for v2 in [False, True]:\n",
    "    core.enable_v2_buffer(v2)\n",
    "    core.snap_image()\n",
    "    if not v2:\n",
    "        # it should raise an exception if you try to get the pointer\n",
    "        try:\n",
    "            tagged_image = core.get_tagged_image_pointer()\n",
    "            assert False\n",
    "        except Exception as e:\n",
    "            pass\n",
    "    else:\n",
    "        # it should return a pointer\n",
    "        tagged_image = core.get_tagged_image_pointer()\n",
    "        assert tagged_image.pix is None\n",
    "        tagged_image.get_pixels()\n",
    "        assert isinstance(tagged_image.pix, np.ndarray)\n",
    "\n",
    "\n"
   ]
  },
  {
   "cell_type": "code",
   "execution_count": 5,
   "metadata": {},
   "outputs": [
    {
     "data": {
      "text/plain": [
       "'1024'"
      ]
     },
     "execution_count": 5,
     "metadata": {},
     "output_type": "execute_result"
    }
   ],
   "source": [
    "tagged_image.tags.get('Width')"
   ]
  },
  {
   "cell_type": "code",
   "execution_count": 4,
   "metadata": {},
   "outputs": [],
   "source": [
    "# Test functions for getting images and TaggedImages out of the buffer\n",
    "from time import sleep, time\n",
    "import numpy as np\n",
    "\n",
    "# Test Peeking images/tagged images when running an overwrite mode sequence\n",
    "for v2 in [True, False]:\n",
    "    core.enable_v2_buffer(v2)\n",
    "    core.set_circular_buffer_memory_footprint(10)\n",
    "    core.start_continuous_sequence_acquisition(0)\n",
    "    sleep(1)\n",
    "    core.stop_sequence_acquisition()\n",
    "\n",
    "    ti = core.get_last_tagged_image()\n",
    "    assert isinstance(ti.pix, np.ndarray)\n",
    "    i = core.get_last_image()\n",
    "    assert isinstance(i, np.ndarray)\n",
    "    # Test direct access to the BufferDataPointer object\n",
    "    if v2:\n",
    "        buffer_data_pointer = core.get_last_data_pointer()\n",
    "        assert isinstance(buffer_data_pointer.get_data(), np.ndarray)\n",
    "        buffer_data_pointer.release()\n",
    "        assert(buffer_data_pointer.get_data() is None)\n",
    "        # Test the TaggedImagePointer object\n",
    "        tip = core.get_last_tagged_image_pointer()    \n",
    "        assert tip.pix is None\n",
    "        tip.get_pixels()\n",
    "        assert isinstance(tip.pix, np.ndarray)\n",
    "        tip.release()\n",
    "    else:\n",
    "        # assert low level throws exception\n",
    "        try:\n",
    "            core.get_last_data_pointer()\n",
    "            assert False\n",
    "        except Exception as e:\n",
    "            pass\n",
    "        # Assert high level gives none\n",
    "        try:\n",
    "            tip = core.get_last_tagged_image_pointer()\n",
    "            assert False\n",
    "        except Exception as e:\n",
    "            pass\n",
    "    \n",
    "\n",
    "# Test popping tagged images when running a non-overwrite mode sequence\n",
    "for v2 in [True, False]:\n",
    "    core.enable_v2_buffer(v2)\n",
    "    core.set_circular_buffer_memory_footprint(10)\n",
    "    core.start_sequence_acquisition(4, 0, True)\n",
    "    while core.is_sequence_running():\n",
    "        sleep(0.01)\n",
    "\n",
    "    ti = core.pop_next_tagged_image()\n",
    "    assert isinstance(ti.pix, np.ndarray)\n",
    "    i = core.pop_next_image()\n",
    "    assert isinstance(i, np.ndarray)\n",
    "    # Test direct access to the BufferDataPointer object\n",
    "    if v2:\n",
    "        buffer_data_pointer = core.pop_next_data_pointer()\n",
    "        assert isinstance(buffer_data_pointer.get_data(), np.ndarray)\n",
    "        buffer_data_pointer.release()\n",
    "        assert(buffer_data_pointer.get_data() is None)\n",
    "        # Test the TaggedImagePointer object\n",
    "        tip = core.pop_next_tagged_image_pointer()    \n",
    "        assert tip.pix is None\n",
    "        tip.get_pixels()\n",
    "        assert isinstance(tip.pix, np.ndarray)\n",
    "        tip.release()\n",
    "    else:\n",
    "        # assert low level throws exception\n",
    "        try:\n",
    "            core.pop_next_data_pointer()\n",
    "            assert False\n",
    "        except Exception as e:\n",
    "            pass\n",
    "        # Assert high level gives none\n",
    "        try:\n",
    "            tip = core.pop_next_tagged_image_pointer()\n",
    "            assert False\n",
    "        except Exception as e:\n",
    "            pass\n"
   ]
  },
  {
   "cell_type": "code",
   "execution_count": 5,
   "metadata": {},
   "outputs": [],
   "source": [
    "# Test pulling out images from different cameras\n",
    "from time import sleep\n",
    "\n",
    "\n",
    "core.stop_sequence_acquisition('Camera')\n",
    "core.stop_sequence_acquisition('Camera2')\n",
    "image_size = 1024\n",
    "image_size2 = 2048\n",
    "buffer_size = 100\n",
    "\n",
    "core.enable_v2_buffer(True)\n",
    "core.set_buffer_memory_footprint(buffer_size)\n",
    "\n",
    "# change to differen image sizes and pixel types\n",
    "core.set_property('Camera', 'OnCameraCCDYSize', str(image_size))\n",
    "core.set_property('Camera', 'OnCameraCCDXSize', str(image_size))\n",
    "core.set_property('Camera', 'PixelType', '8bit')\n",
    "\n",
    "core.set_property('Camera2', 'OnCameraCCDYSize', str(image_size2))\n",
    "core.set_property('Camera2', 'OnCameraCCDXSize', str(image_size2))\n",
    "core.set_property('Camera2', 'PixelType', '16bit')\n",
    "\n",
    "core.start_continuous_sequence_acquisition('Camera', 0)\n",
    "core.start_continuous_sequence_acquisition('Camera2', 0)\n",
    "\n",
    "sleep(0.5)\n",
    "\n",
    "tip1 = core.get_last_tagged_image_pointer_from_device('Camera')\n",
    "tip2 = core.get_last_tagged_image_pointer_from_device('Camera2')\n",
    "\n",
    "assert isinstance(tip1.get_pixels(), np.ndarray)\n",
    "assert isinstance(tip2.get_pixels(), np.ndarray)\n",
    "\n",
    "assert tip1.tags.get('Camera') == 'Camera'\n",
    "assert tip2.tags.get('Camera') == 'Camera2'\n",
    "\n",
    "# check the data types are uint8 and uint16\n",
    "assert tip1.pix.dtype == np.uint8\n",
    "assert tip2.pix.dtype == np.uint16\n",
    "\n",
    "core.stop_sequence_acquisition('Camera')\n",
    "core.stop_sequence_acquisition('Camera2')"
   ]
  },
  {
   "cell_type": "code",
   "execution_count": 6,
   "metadata": {},
   "outputs": [
    {
     "name": "stdout",
     "output_type": "stream",
     "text": [
      "1 popped: Free 10 Total 10\n",
      "2 popped: Free 10 Total 10\n",
      "3 popped: Free 10 Total 10\n",
      "4 popped: Free 10 Total 10\n",
      "5 popped: Free 10 Total 10\n",
      "6 popped: Free 10 Total 10\n",
      "7 popped: Free 10 Total 10\n",
      "8 popped: Free 10 Total 10\n",
      "9 popped: Free 10 Total 10\n",
      "10 popped: Free 10 Total 10\n",
      "11 popped: Free 10 Total 10\n",
      "12 popped: Free 10 Total 10\n",
      "13 popped: Free 10 Total 10\n",
      "14 popped: Free 10 Total 10\n",
      "15 popped: Free 10 Total 10\n",
      "16 popped: Free 10 Total 10\n",
      "17 popped: Free 10 Total 10\n",
      "18 popped: Free 10 Total 10\n",
      "19 popped: Free 10 Total 10\n",
      "20 popped: Free 10 Total 10\n",
      "21 popped: Free 10 Total 10\n",
      "22 popped: Free 10 Total 10\n",
      "23 popped: Free 10 Total 10\n",
      "24 popped: Free 10 Total 10\n",
      "25 popped: Free 10 Total 10\n",
      "26 popped: Free 10 Total 10\n",
      "27 popped: Free 10 Total 10\n",
      "28 popped: Free 10 Total 10\n",
      "29 popped: Free 10 Total 10\n",
      "30 popped: Free 10 Total 10\n",
      "31 popped: Free 10 Total 10\n",
      "32 popped: Free 10 Total 10\n",
      "33 popped: Free 10 Total 10\n",
      "34 popped: Free 10 Total 10\n",
      "35 popped: Free 10 Total 10\n",
      "36 popped: Free 10 Total 10\n",
      "37 popped: Free 10 Total 10\n",
      "38 popped: Free 10 Total 10\n",
      "39 popped: Free 10 Total 10\n",
      "40 popped: Free 10 Total 10\n",
      "41 popped: Free 10 Total 10\n",
      "42 popped: Free 10 Total 10\n",
      "43 popped: Free 10 Total 10\n",
      "44 popped: Free 10 Total 10\n",
      "45 popped: Free 10 Total 10\n",
      "46 popped: Free 10 Total 10\n",
      "47 popped: Free 10 Total 10\n",
      "48 popped: Free 10 Total 10\n",
      "49 popped: Free 10 Total 10\n",
      "50 popped: Free 10 Total 10\n",
      "sequence done\n"
     ]
    }
   ],
   "source": [
    "# Test whether you can wrap around more data greater than the buffer size\n",
    "from time import sleep\n",
    "\n",
    "num_images = 50\n",
    "core.enable_v2_buffer(True)\n",
    "core.set_exposure(25)\n",
    "\n",
    "core.set_circular_buffer_memory_footprint(10)\n",
    "core.start_sequence_acquisition(num_images, 0, True)\n",
    "\n",
    "i = 0\n",
    "while True:\n",
    "    try:\n",
    "        im = core.pop_next_image()\n",
    "        assert im is not None\n",
    "        i += 1\n",
    "        print(f'{i} popped: Free {core.get_buffer_free_capacity()}', f'Total {core.get_buffer_total_capacity()}')\n",
    "    except:\n",
    "        pass\n",
    "    if core.is_buffer_overflowed():\n",
    "        print('overflowed, ', f'Free {core.get_buffer_free_capacity()}')\n",
    "        break\n",
    "    if not core.is_sequence_running():\n",
    "        print('sequence done')\n",
    "    if i == num_images:\n",
    "        break\n",
    "    sleep(0.01)"
   ]
  },
  {
   "cell_type": "code",
   "execution_count": 7,
   "metadata": {},
   "outputs": [
    {
     "data": {
      "application/vnd.jupyter.widget-view+json": {
       "model_id": "0aa87277f4f94b2ea8263fb03dc168b5",
       "version_major": 2,
       "version_minor": 0
      },
      "text/plain": [
       "Continuous acquisition:   0%|          | 0/5.0 [00:00<?, ?it/s]"
      ]
     },
     "metadata": {},
     "output_type": "display_data"
    },
    {
     "data": {
      "application/vnd.jupyter.widget-view+json": {
       "model_id": "ad36eefc4f6c454dafeb1a2b3287c9b5",
       "version_major": 2,
       "version_minor": 0
      },
      "text/plain": [
       "Buffer free:   0%|          | 0/20 [00:00<?, ?it/s]"
      ]
     },
     "metadata": {},
     "output_type": "display_data"
    },
    {
     "data": {
      "application/vnd.jupyter.widget-view+json": {
       "model_id": "be140759ca9f402eb3aeb0168a17a655",
       "version_major": 2,
       "version_minor": 0
      },
      "text/plain": [
       "Continuous acquisition:   0%|          | 0/5.0 [00:00<?, ?it/s]"
      ]
     },
     "metadata": {},
     "output_type": "display_data"
    },
    {
     "data": {
      "application/vnd.jupyter.widget-view+json": {
       "model_id": "382838e22c7a498a885676b73424b92d",
       "version_major": 2,
       "version_minor": 0
      },
      "text/plain": [
       "Buffer free:   0%|          | 0/20 [00:00<?, ?it/s]"
      ]
     },
     "metadata": {},
     "output_type": "display_data"
    },
    {
     "data": {
      "application/vnd.jupyter.widget-view+json": {
       "model_id": "7833f630cb93439da7333b596fce6369",
       "version_major": 2,
       "version_minor": 0
      },
      "text/plain": [
       "Continuous acquisition:   0%|          | 0/5.0 [00:00<?, ?it/s]"
      ]
     },
     "metadata": {},
     "output_type": "display_data"
    },
    {
     "data": {
      "application/vnd.jupyter.widget-view+json": {
       "model_id": "b76c019c21d84a2581ba1f50561ba773",
       "version_major": 2,
       "version_minor": 0
      },
      "text/plain": [
       "Buffer free:   0%|          | 0/5 [00:00<?, ?it/s]"
      ]
     },
     "metadata": {},
     "output_type": "display_data"
    },
    {
     "data": {
      "application/vnd.jupyter.widget-view+json": {
       "model_id": "9e7b1f39ef7f43a4862d28dd632ca2fa",
       "version_major": 2,
       "version_minor": 0
      },
      "text/plain": [
       "Continuous acquisition:   0%|          | 0/5.0 [00:00<?, ?it/s]"
      ]
     },
     "metadata": {},
     "output_type": "display_data"
    },
    {
     "data": {
      "application/vnd.jupyter.widget-view+json": {
       "model_id": "06a7fabea7c147d8831ea341beaea7cc",
       "version_major": 2,
       "version_minor": 0
      },
      "text/plain": [
       "Buffer free:   0%|          | 0/5 [00:00<?, ?it/s]"
      ]
     },
     "metadata": {},
     "output_type": "display_data"
    }
   ],
   "source": [
    "# Test continuous acquisition (live mode) produces changing images\n",
    "import numpy as np\n",
    "from buffer_test_util import *\n",
    "\n",
    "# Setup camera with desired parameters\n",
    "image_size = 1024\n",
    "exposure = 10\n",
    "MB_per_image = setup_camera(core, image_size, exposure, fast_image=False)\n",
    "buffer_size = 20\n",
    "duration = 5.0\n",
    "\n",
    "run_live_mode(core, image_size, use_v2=True, buffer_size_mb=buffer_size, duration=duration, check_for_changing_images=True)\n",
    "run_live_mode(core, image_size, use_v2=False, buffer_size_mb=buffer_size, duration=duration, check_for_changing_images=True)\n",
    "\n",
    "\n",
    "# Test live mode with RGB images\n",
    "core.set_property('Camera', 'PixelType', '32bitRGB')\n",
    "\n",
    "MB_per_image = setup_camera(core, image_size, exposure, fast_image=False)\n",
    "\n",
    "run_live_mode(core, image_size, use_v2=True, buffer_size_mb=buffer_size, duration=duration, check_for_changing_images=True)\n",
    "run_live_mode(core, image_size, use_v2=False, buffer_size_mb=buffer_size, duration=duration, check_for_changing_images=True)\n",
    "\n",
    "\n",
    "core.set_property('Camera', 'PixelType', '16bit')\n"
   ]
  },
  {
   "cell_type": "code",
   "execution_count": 8,
   "metadata": {},
   "outputs": [],
   "source": [
    "# Run two cameras with different sizes\n",
    "from time import sleep\n",
    "\n",
    "num_images = 5\n",
    "image_size = 1024\n",
    "image_size2 = 2048\n",
    "buffer_size = 500\n",
    "\n",
    "core.enable_v2_buffer(True)\n",
    "core.set_buffer_memory_footprint(buffer_size)\n",
    "\n",
    "# change to differen image sizes and pixel types\n",
    "core.set_property('Camera', 'OnCameraCCDYSize', str(image_size))\n",
    "core.set_property('Camera', 'OnCameraCCDXSize', str(image_size))\n",
    "core.set_property('Camera', 'PixelType', '8bit')\n",
    "\n",
    "core.set_property('Camera2', 'OnCameraCCDYSize', str(image_size2))\n",
    "core.set_property('Camera2', 'OnCameraCCDXSize', str(image_size2))\n",
    "core.set_property('Camera2', 'PixelType', '16bit')\n",
    "\n",
    "core.start_sequence_acquisition('Camera', num_images, 0, True)\n",
    "core.start_sequence_acquisition('Camera2', num_images, 0, True)\n",
    "\n",
    "i = 0\n",
    "images = []\n",
    "while True:\n",
    "    try:\n",
    "        im = core.pop_next_tagged_image()\n",
    "        assert im is not None\n",
    "        images.append(im)\n",
    "        i += 1\n",
    "    except:\n",
    "        pass\n",
    "    if core.is_buffer_overflowed():\n",
    "        print('overflowed, ', f'Free {core.get_buffer_free_capacity()}')\n",
    "        break\n",
    "    if i == num_images * 2:\n",
    "        break\n",
    "    sleep(0.01)\n",
    "\n",
    "# find the size of camera 1 and camera 2 in the tags and shape\n",
    "# ensure that call camera 1 and camera 2 are the same\n",
    "camera1_images = [im for im in images if im.tags['Camera'] == 'Camera']\n",
    "camera2_images = [im for im in images if im.tags['Camera'] == 'Camera2']\n",
    "\n",
    "assert len(camera1_images) == len(camera2_images)\n",
    "assert all(camera1_images[0].pix.shape == im.pix.shape for im in camera1_images)\n",
    "assert all(camera2_images[0].pix.shape == im.pix.shape for im in camera2_images)    \n",
    "# assert shapes are different\n",
    "assert camera1_images[0].pix.shape != camera2_images[0].pix.shape\n"
   ]
  }
 ],
 "metadata": {
  "kernelspec": {
   "display_name": "pycromanager",
   "language": "python",
   "name": "python3"
  },
  "language_info": {
   "codemirror_mode": {
    "name": "ipython",
    "version": 3
   },
   "file_extension": ".py",
   "mimetype": "text/x-python",
   "name": "python",
   "nbconvert_exporter": "python",
   "pygments_lexer": "ipython3",
   "version": "3.13.1"
  }
 },
 "nbformat": 4,
 "nbformat_minor": 2
}
